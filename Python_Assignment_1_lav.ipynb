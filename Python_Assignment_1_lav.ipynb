{
 "cells": [
  {
   "cell_type": "markdown",
   "id": "7ff3b9db",
   "metadata": {},
   "source": [
    "# Q1...write code that uses iteration to print out the length of each element of the list stored in list.\n"
   ]
  },
  {
   "cell_type": "code",
   "execution_count": 2,
   "id": "bab93f5e",
   "metadata": {},
   "outputs": [
    {
     "name": "stdout",
     "output_type": "stream",
     "text": [
      "5\n",
      "1\n",
      "7\n",
      "10\n",
      "13\n"
     ]
    }
   ],
   "source": [
    "l=[\"hello\", \" \" ,\"goodbye\", \" wonderful\", \"i love python\"]\n",
    "for i in range(len(l)):\n",
    "    print(len(l[i]))"
   ]
  },
  {
   "cell_type": "markdown",
   "id": "2271cfdd",
   "metadata": {},
   "source": [
    "# Q2......write a python program to count and display the vowels of a given text."
   ]
  },
  {
   "cell_type": "code",
   "execution_count": 1,
   "id": "790dacc9",
   "metadata": {},
   "outputs": [
    {
     "name": "stdout",
     "output_type": "stream",
     "text": [
      "enter a string\n",
      "lavkush kumar\n",
      "the vowels are:\n",
      "a\n",
      "u\n",
      "u\n",
      "a\n",
      "and there is 4 vowels:\n"
     ]
    }
   ],
   "source": [
    "n=input(\"enter a string\\n\")\n",
    "c=0\n",
    "print(\"the vowels are:\")\n",
    "for i in n:\n",
    "    if i in \"AEIOUaeiou\":\n",
    "        print(i)\n",
    "        c=c+1\n",
    "print(\"and there is\",c,\"vowels:\")"
   ]
  },
  {
   "cell_type": "markdown",
   "id": "50aed6eb",
   "metadata": {},
   "source": [
    "# Q3....write code to create a list of numbers from 0 to 88 and assign that list to the variable nums.Do not hard code the list.\n"
   ]
  },
  {
   "cell_type": "code",
   "execution_count": 4,
   "id": "2fe740dc",
   "metadata": {},
   "outputs": [
    {
     "name": "stdout",
     "output_type": "stream",
     "text": [
      "[0, 1, 2, 3, 4, 5, 6, 7, 8, 9, 10, 11, 12, 13, 14, 15, 16, 17, 18, 19, 20, 21, 22, 23, 24, 25, 26, 27, 28, 29, 30, 31, 32, 33, 34, 35, 36, 37, 38, 39, 40, 41, 42, 43, 44, 45, 46, 47, 48, 49, 50, 51, 52, 53, 54, 55, 56, 57, 58, 59, 60, 61, 62, 63, 64, 65, 66, 67, 68, 69, 70, 71, 72, 73, 74, 75, 76, 77, 78, 79, 80, 81, 82, 83, 84, 85, 86, 87]\n"
     ]
    }
   ],
   "source": [
    "number=list(range(0,88))\n",
    "print(number)"
   ]
  },
  {
   "cell_type": "markdown",
   "id": "d98a0479",
   "metadata": {},
   "source": [
    "# Q4....Addition is a string with a list of numbers separated by the + sign. Write code that uses the accumulation pattern to take the sum of all of the numbers and assigns it to sum_val (an integer). (You should use the .split(\"+\") function to split by \"+\" and int() to cast to an integer).\n",
    "#### Addition = \"2+5+10+20\""
   ]
  },
  {
   "cell_type": "code",
   "execution_count": 2,
   "id": "8fc05fba",
   "metadata": {},
   "outputs": [
    {
     "name": "stdout",
     "output_type": "stream",
     "text": [
      "37\n",
      "37\n",
      "37\n",
      "37\n",
      "37\n",
      "37\n",
      "37\n",
      "37\n",
      "37\n"
     ]
    }
   ],
   "source": [
    "add_str=\"2+5+10+20\"\n",
    "sum_val=0\n",
    "for i in add_str:\n",
    "    sum_val=sum(map(int,add_str.split(\"+\")))\n",
    "    print(sum_val)"
   ]
  },
  {
   "cell_type": "markdown",
   "id": "6356395c",
   "metadata": {},
   "source": [
    "# Q5.....Write a Python program to find the volume of a sphere with diameter 12 cm.\n",
    "#### Formula: V=4/3 * π * r 3"
   ]
  },
  {
   "cell_type": "code",
   "execution_count": 9,
   "id": "0b2b06a2",
   "metadata": {},
   "outputs": [
    {
     "name": "stdout",
     "output_type": "stream",
     "text": [
      "Please Enter the Radius of a Sphere: 6\n",
      "The Surface area of a Sphere = 452.16: \n",
      "The Volume of a Sphere = 904.31999999999982264853: \n"
     ]
    }
   ],
   "source": [
    "PI = 3.14\n",
    "radius = float(input('Please Enter the Radius of a Sphere: '))\n",
    "sa =  4 * PI * radius * radius\n",
    "Volume = (4 / 3) * PI * radius * radius * radius\n",
    "\n",
    "print(\"The Surface area of a Sphere = %.2f: \" %sa)\n",
    "print(\"The Volume of a Sphere = %.20f: \" %Volume)"
   ]
  },
  {
   "cell_type": "code",
   "execution_count": null,
   "id": "23eca727",
   "metadata": {},
   "outputs": [],
   "source": []
  }
 ],
 "metadata": {
  "kernelspec": {
   "display_name": "Python 3",
   "language": "python",
   "name": "python3"
  },
  "language_info": {
   "codemirror_mode": {
    "name": "ipython",
    "version": 3
   },
   "file_extension": ".py",
   "mimetype": "text/x-python",
   "name": "python",
   "nbconvert_exporter": "python",
   "pygments_lexer": "ipython3",
   "version": "3.8.8"
  }
 },
 "nbformat": 4,
 "nbformat_minor": 5
}
