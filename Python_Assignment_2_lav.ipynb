{
 "cells": [
  {
   "cell_type": "markdown",
   "id": "7c175536",
   "metadata": {},
   "source": [
    "### Q1...... Write a Python program to remove duplicates from a list."
   ]
  },
  {
   "cell_type": "code",
   "execution_count": 9,
   "id": "c89c4170",
   "metadata": {},
   "outputs": [
    {
     "name": "stdout",
     "output_type": "stream",
     "text": [
      "remove diplicates number in list: [10, 20, 30, 40, 50]\n"
     ]
    }
   ],
   "source": [
    "l=[10,20,10,30,30,40,40,50]\n",
    "li=[]\n",
    "for i in l:\n",
    "    if i not in li:\n",
    "        li.append(i)\n",
    "print(\"remove diplicates number in list:\",li)"
   ]
  },
  {
   "cell_type": "markdown",
   "id": "d6261469",
   "metadata": {},
   "source": [
    "### Q2..... Write a Python program to combine two dictionary adding values for common keys\n",
    "### d1 = {'a': 100, 'b': 200, 'c':300}\n",
    "### d2 = {'a': 300, 'b': 200, 'd':400}\n",
    "### Sample output: Counter({'a': 400, 'b': 400, 'd': 400, 'c': 300})"
   ]
  },
  {
   "cell_type": "code",
   "execution_count": 10,
   "id": "2a218a0b",
   "metadata": {},
   "outputs": [
    {
     "name": "stdout",
     "output_type": "stream",
     "text": [
      "{'a': 400, 'b': 400, 'd': 400, 'c': 300}\n"
     ]
    }
   ],
   "source": [
    "d1={'a':100,'b':200,'c':300}\n",
    "d2={'a':300,'b':200,'d':400}\n",
    "for key in d1:\n",
    "    if key in d2:\n",
    "        d2[key]=d1[key]+d2[key]\n",
    "    else:\n",
    "        d2[key]=d1[key]\n",
    "print(d2)"
   ]
  },
  {
   "cell_type": "markdown",
   "id": "7df5f815",
   "metadata": {},
   "source": [
    "# Q3....Write a Python program to convert a tuple to a string."
   ]
  },
  {
   "cell_type": "code",
   "execution_count": 2,
   "id": "17771525",
   "metadata": {},
   "outputs": [
    {
     "name": "stdout",
     "output_type": "stream",
     "text": [
      "LAVKUShkumar\n"
     ]
    }
   ],
   "source": [
    "tuple=('L','A','V','K','U','S','h','k','u','m','a','r',)\n",
    "str=\"\"\n",
    "\n",
    "for i in tuple:\n",
    " str+=i\n",
    "print(str)"
   ]
  },
  {
   "cell_type": "markdown",
   "id": "92c8f688",
   "metadata": {},
   "source": [
    "### Q 4.......Write a Python program to remove item(s) from set"
   ]
  },
  {
   "cell_type": "code",
   "execution_count": 19,
   "id": "e7f2fb3d",
   "metadata": {},
   "outputs": [
    {
     "name": "stdout",
     "output_type": "stream",
     "text": [
      "original set {2, 4, 6, 8, 10, 12, 14}\n",
      "after removing {2, 4, 6, 8, 10, 14}\n"
     ]
    }
   ],
   "source": [
    "s={2,4,6,8,10,12,14}\n",
    "print(\"original set\",s)\n",
    "s.remove(12)\n",
    "print(\"after removing\",s)"
   ]
  },
  {
   "cell_type": "markdown",
   "id": "7a717951",
   "metadata": {},
   "source": [
    "### Q5.... Write a Python program to create a symmetric difference"
   ]
  },
  {
   "cell_type": "code",
   "execution_count": 20,
   "id": "a88cc9e4",
   "metadata": {},
   "outputs": [
    {
     "name": "stdout",
     "output_type": "stream",
     "text": [
      "{1, 3, 5, 7}\n"
     ]
    }
   ],
   "source": [
    "s1={1,2,3,4,5,6,7,8}\n",
    "s2={2,4,6,8}\n",
    "intersection=s1.intersection(s2)\n",
    "union=s1.union(s2)\n",
    "symmetric_difference=union.difference(intersection)\n",
    "print(symmetric_difference)"
   ]
  },
  {
   "cell_type": "markdown",
   "id": "f51798ae",
   "metadata": {},
   "source": [
    "### Q6.....Write a Python program to construct the following pattern, using a nested for loop.\n",
    "### *\n",
    "### *\n",
    "### *\n",
    "### *\n",
    "### *"
   ]
  },
  {
   "cell_type": "code",
   "execution_count": 21,
   "id": "a5635ce5",
   "metadata": {},
   "outputs": [
    {
     "name": "stdout",
     "output_type": "stream",
     "text": [
      "*\n",
      " \n",
      "*\n",
      " \n",
      "*\n",
      " \n",
      "*\n",
      " \n",
      "*\n",
      " \n"
     ]
    }
   ],
   "source": [
    "n=5\n",
    "for i in range(n):\n",
    "    for j in range(1):\n",
    "        print('*')\n",
    "    print(' ')"
   ]
  },
  {
   "cell_type": "markdown",
   "id": "cd50da83",
   "metadata": {},
   "source": [
    "### Q7.... Write a Python program to get the Fibonacci series between 0 to 50."
   ]
  },
  {
   "cell_type": "code",
   "execution_count": 22,
   "id": "d5abe558",
   "metadata": {},
   "outputs": [
    {
     "name": "stdout",
     "output_type": "stream",
     "text": [
      "[0, 1, 1, 2, 3, 5, 8, 13, 21, 34]\n"
     ]
    }
   ],
   "source": [
    "j=0\n",
    "k=1\n",
    "l=0\n",
    "count=100\n",
    "list=[j,k]\n",
    "for i in range(count):\n",
    "        l=j+k\n",
    "        if(l<51):\n",
    "            list.append(l)\n",
    "            j=k\n",
    "            k=l\n",
    "print(list)    "
   ]
  },
  {
   "cell_type": "code",
   "execution_count": null,
   "id": "0a921b4d",
   "metadata": {},
   "outputs": [],
   "source": []
  }
 ],
 "metadata": {
  "kernelspec": {
   "display_name": "Python 3",
   "language": "python",
   "name": "python3"
  },
  "language_info": {
   "codemirror_mode": {
    "name": "ipython",
    "version": 3
   },
   "file_extension": ".py",
   "mimetype": "text/x-python",
   "name": "python",
   "nbconvert_exporter": "python",
   "pygments_lexer": "ipython3",
   "version": "3.8.8"
  }
 },
 "nbformat": 4,
 "nbformat_minor": 5
}
