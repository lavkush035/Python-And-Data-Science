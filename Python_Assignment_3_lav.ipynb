{
 "cells": [
  {
   "cell_type": "markdown",
   "id": "882f3d2d",
   "metadata": {},
   "source": [
    " # Q1....Write a Python function to find the Max of three numbers."
   ]
  },
  {
   "cell_type": "code",
   "execution_count": 8,
   "id": "6e2faec8",
   "metadata": {},
   "outputs": [],
   "source": [
    "def max(a,b,c):\n",
    "    if a>b and a>c:\n",
    "        print('The max number is ',a)\n",
    "    elif b>a and b>c:\n",
    "        print('The max number is ',b)\n",
    "    elif c>a and c>b:\n",
    "        print('The max number is ',c)\n",
    "    else:\n",
    "        print('All are equal number')\n",
    "  \n",
    "        "
   ]
  },
  {
   "cell_type": "code",
   "execution_count": 9,
   "id": "c430aef9",
   "metadata": {},
   "outputs": [
    {
     "name": "stdout",
     "output_type": "stream",
     "text": [
      "The max number is  5\n"
     ]
    }
   ],
   "source": [
    "max(3,4,5)"
   ]
  },
  {
   "cell_type": "code",
   "execution_count": 10,
   "id": "0bbb3fa4",
   "metadata": {},
   "outputs": [
    {
     "name": "stdout",
     "output_type": "stream",
     "text": [
      "All are equal number\n"
     ]
    }
   ],
   "source": [
    "max(2,2,2)"
   ]
  },
  {
   "cell_type": "markdown",
   "id": "afe86acb",
   "metadata": {},
   "source": [
    "# Q2.....Write a Python function to multiply all the numbers in a list\n"
   ]
  },
  {
   "cell_type": "code",
   "execution_count": 21,
   "id": "1751b7f6",
   "metadata": {},
   "outputs": [
    {
     "name": "stdout",
     "output_type": "stream",
     "text": [
      "6\n"
     ]
    }
   ],
   "source": [
    "list=[1,2,3]\n",
    "product=1\n",
    "for i in list:\n",
    "    product*=i\n",
    "print(product)"
   ]
  },
  {
   "cell_type": "markdown",
   "id": "bab6a050",
   "metadata": {},
   "source": [
    "# Q3....Write a Python function that accepts a string and calculate the number of upper case letters and lower case letters"
   ]
  },
  {
   "cell_type": "code",
   "execution_count": 5,
   "id": "bcbead8f",
   "metadata": {},
   "outputs": [],
   "source": [
    "def findnum(string):\n",
    "    r={'u_case':0, 'l_case':0}\n",
    "    for i in string:\n",
    "    \n",
    "        if i.isupper():\n",
    "            r['u_case']+=1\n",
    "        elif i.islower():\n",
    "             r['l_case']+=1\n",
    "        else:\n",
    "            pass\n",
    "    print (\"Your entered String : \", string)\n",
    "    print('The no of UPPER CASE letter ',r['u_case'])\n",
    "    print('The no of LOWER CASE letter ',r['l_case'])"
   ]
  },
  {
   "cell_type": "code",
   "execution_count": 6,
   "id": "50842b2e",
   "metadata": {},
   "outputs": [
    {
     "name": "stdout",
     "output_type": "stream",
     "text": [
      "Your entered String :  lavkush\n",
      "The no of UPPER CASE letter  0\n",
      "The no of LOWER CASE letter  7\n"
     ]
    }
   ],
   "source": [
    "findnum('lavkush')"
   ]
  },
  {
   "cell_type": "markdown",
   "id": "d94e7153",
   "metadata": {},
   "source": [
    "# Q4....Python function that checks whether a passed string is palindrome or not"
   ]
  },
  {
   "cell_type": "code",
   "execution_count": 26,
   "id": "1a51ad3a",
   "metadata": {},
   "outputs": [
    {
     "name": "stdout",
     "output_type": "stream",
     "text": [
      "Enter any  string:  akash\n",
      "no\n"
     ]
    }
   ],
   "source": [
    "def isPalindrome(s):\n",
    "    s=s.lower()\n",
    "    return s==s[::-1]\n",
    "s=input('Enter any  string:  ')\n",
    "ans=isPalindrome(s)\n",
    "if ans:\n",
    "    print('yes')\n",
    "else:\n",
    "    print('no')"
   ]
  },
  {
   "cell_type": "markdown",
   "id": "4e42c078",
   "metadata": {},
   "source": [
    "# Q5....Write a Python program to print the even numbers from a given list\n"
   ]
  },
  {
   "cell_type": "code",
   "execution_count": 27,
   "id": "79d85d44",
   "metadata": {},
   "outputs": [
    {
     "name": "stdout",
     "output_type": "stream",
     "text": [
      "[2, 4, 6, 12, 10]\n"
     ]
    }
   ],
   "source": [
    "l1=[2,4,6,9,12,10,7,5]\n",
    "l2=[]\n",
    "for i in l1:\n",
    "    if i%2==0:\n",
    "        l2.append(i)\n",
    "print(l2)\n",
    "\n"
   ]
  },
  {
   "cell_type": "code",
   "execution_count": null,
   "id": "cb4cd922",
   "metadata": {},
   "outputs": [],
   "source": []
  }
 ],
 "metadata": {
  "kernelspec": {
   "display_name": "Python 3",
   "language": "python",
   "name": "python3"
  },
  "language_info": {
   "codemirror_mode": {
    "name": "ipython",
    "version": 3
   },
   "file_extension": ".py",
   "mimetype": "text/x-python",
   "name": "python",
   "nbconvert_exporter": "python",
   "pygments_lexer": "ipython3",
   "version": "3.8.8"
  }
 },
 "nbformat": 4,
 "nbformat_minor": 5
}
